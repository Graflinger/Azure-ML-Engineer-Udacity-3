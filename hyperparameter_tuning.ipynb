{
 "cells": [
  {
   "cell_type": "markdown",
   "metadata": {},
   "source": [
    "# Hyperparameter Tuning using HyperDrive\n",
    "\n",
    "TODO: Import Dependencies. In the cell below, import all the dependencies that you will need to complete the project."
   ]
  },
  {
   "cell_type": "code",
   "execution_count": null,
   "metadata": {
    "gather": {
     "logged": 1598531914256
    }
   },
   "outputs": [],
   "source": [
    "from azureml.core import Workspace, Experiment\n",
    "from azureml.core.compute import ComputeTarget, AmlCompute\n",
    "from azureml.core.compute_target import ComputeTargetException\n",
    "from azureml.core.model import InferenceConfig\n",
    "from azureml.core import Workspace, Dataset\n",
    "from azureml.widgets import RunDetails\n",
    "from azureml.train.sklearn import SKLearn\n",
    "from azureml.train.hyperdrive.run import PrimaryMetricGoal\n",
    "from azureml.train.hyperdrive.policy import BanditPolicy\n",
    "from azureml.train.hyperdrive.sampling import RandomParameterSampling\n",
    "from azureml.train.hyperdrive.runconfig import HyperDriveConfig\n",
    "from azureml.train.hyperdrive.parameter_expressions import uniform, choice\n",
    "from azureml.train.hyperdrive import MedianStoppingPolicy\n",
    "from azureml.data.dataset_factory import TabularDatasetFactory\n",
    "from azureml.core.webservice import AciWebservice\n",
    "\n",
    "import os\n",
    "from azureml.core import Environment\n",
    "from azureml.core import ScriptRunConfig\n",
    "import joblib"
   ]
  },
  {
   "cell_type": "markdown",
   "metadata": {},
   "source": [
    "## Dataset\n",
    "\n",
    "TODO: Get data. In the cell below, write code to access the data you will be using in this project. Remember that the dataset needs to be external."
   ]
  },
  {
   "cell_type": "code",
   "execution_count": null,
   "metadata": {
    "gather": {
     "logged": 1598531917374
    },
    "jupyter": {
     "outputs_hidden": false,
     "source_hidden": false
    },
    "nteract": {
     "transient": {
      "deleting": false
     }
    }
   },
   "outputs": [],
   "source": [
    "ws = Workspace.from_config()\n",
    "experiment_name = 'hyperdrive'\n",
    "\n",
    "experiment=Experiment(ws, experiment_name)"
   ]
  },
  {
   "cell_type": "code",
   "execution_count": null,
   "metadata": {},
   "outputs": [],
   "source": [
    "data_source = \"https://github.com/Graflinger/Azure-ML-Engineer-Udacity-3/blob/392ffdc670986f86205b84fbc9cb57a82c818389/water_potability.csv\"\n",
    "ds = TabularDatasetFactory.from_delimited_files(path=data_source)\n",
    "\n",
    "df = ds.to_pandas_dataframe()\n",
    "df = df.apply(lambda x: x.fillna(x.mean()),axis=0)\n",
    "df.to_csv(\"prepared_data.csv\")"
   ]
  },
  {
   "cell_type": "markdown",
   "metadata": {
    "collapsed": true,
    "gather": {
     "logged": 1598531923519
    },
    "jupyter": {
     "outputs_hidden": false,
     "source_hidden": false
    },
    "nteract": {
     "transient": {
      "deleting": false
     }
    }
   },
   "source": [
    "## Hyperdrive Configuration\n",
    "\n",
    "TODO: Explain the model you are using and the reason for chosing the different hyperparameters, termination policy and config settings.\n",
    "\n",
    "Answer: The model used is a RandomForest Classifier. It is an Essemble of many desicion trees. The 3 picked hyperparameters are chosen, because these are the most common ones regarding a Random Forest. The n_estimator defines, how many desicion trees are being used. The criterion is about the function to measure the quality of a split and the max depth defines the max depth of any given tree in the forest. For termination poilcy, the bandit Policy was chosen to terinate runs, which will not provide a good result to save performance. In the config settings, the primary metric is defined (Accuracy) and that this should be maximized. Furthermore its configurated, that 20 runs of this hyperdrive should get excecuted, 4 at the same time."
   ]
  },
  {
   "cell_type": "code",
   "execution_count": null,
   "metadata": {
    "gather": {
     "logged": 1598544893076
    },
    "jupyter": {
     "outputs_hidden": false,
     "source_hidden": false
    },
    "nteract": {
     "transient": {
      "deleting": false
     }
    }
   },
   "outputs": [],
   "source": [
    "myenv = Environment.from_conda_specification(name=\"myenv\", file_path = './dependencies.yml')\n",
    "\n",
    "# TODO: Create an early termination policy. This is not required if you are using Bayesian sampling.\n",
    "early_termination_policy = BanditPolicy(evaluation_interval=1, slack_factor=0.1)\n",
    "\n",
    "#TODO: Create the different params that you will be using during training\n",
    "param_sampling = RandomParameterSampling({\n",
    "  \"--in_n_estimator\": choice(16,32,64,128),\n",
    "  \"--in_criterion\": choice(\"gini\", \"entropy\"),\n",
    "  \"--in_max_depth\": choice(2,4,6,8,16)\n",
    "})\n",
    "\n",
    "# set up script run configuration\n",
    "config = ScriptRunConfig(\n",
    "    source_directory='.',\n",
    "    script='train.py',\n",
    "    compute_target=my_compute_target,\n",
    "    environment=myenv,\n",
    ")\n",
    "\n",
    "config.run_config.target = my_compute_target\n",
    "\n",
    "# Create a HyperDriveConfig using the estimator, hyperparameter sampler, and policy.\n",
    "hyperdrive_config = HyperDriveConfig(\n",
    "    run_config=config, \n",
    "    hyperparameter_sampling=ps,\n",
    "    primary_metric_name='Accuracy',\n",
    "    primary_metric_goal=PrimaryMetricGoal.MAXIMIZE,\n",
    "    policy=early_termination_policy, \n",
    "    max_total_runs=20,\n",
    "    max_concurrent_runs=4\n",
    "    )"
   ]
  },
  {
   "cell_type": "code",
   "execution_count": null,
   "metadata": {
    "gather": {
     "logged": 1598544897941
    },
    "jupyter": {
     "outputs_hidden": false,
     "source_hidden": false
    },
    "nteract": {
     "transient": {
      "deleting": false
     }
    }
   },
   "outputs": [],
   "source": [
    "# Submit the hyperdrive run to the experiment and show run details with the widget.\n",
    "exp = Experiment(workspace=ws, name=experiment_name)\n",
    "hyperdrive_submit = exp.submit(config=hyperdrive_config)"
   ]
  },
  {
   "cell_type": "markdown",
   "metadata": {
    "collapsed": true,
    "gather": {
     "logged": 1598544898497
    },
    "jupyter": {
     "outputs_hidden": false,
     "source_hidden": false
    },
    "nteract": {
     "transient": {
      "deleting": false
     }
    }
   },
   "source": [
    "## Run Details\n",
    "\n",
    "OPTIONAL: Write about the different models trained and their performance. Why do you think some models did better than others?\n",
    "\n",
    "TODO: In the cell below, use the `RunDetails` widget to show the different experiments."
   ]
  },
  {
   "cell_type": "code",
   "execution_count": null,
   "metadata": {
    "gather": {
     "logged": 1598546648408
    },
    "jupyter": {
     "outputs_hidden": false,
     "source_hidden": false
    },
    "nteract": {
     "transient": {
      "deleting": false
     }
    }
   },
   "outputs": [],
   "source": [
    "RunDetails(hyperdrive_submit).show()\n",
    "hyperdrive_submit.wait_for_completion(show_output=True)"
   ]
  },
  {
   "cell_type": "markdown",
   "metadata": {},
   "source": [
    "## Best Model\n",
    "\n",
    "TODO: In the cell below, get the best model from the hyperdrive experiments and display all the properties of the model."
   ]
  },
  {
   "cell_type": "code",
   "execution_count": null,
   "metadata": {
    "gather": {
     "logged": 1598546650307
    },
    "jupyter": {
     "outputs_hidden": false,
     "source_hidden": false
    },
    "nteract": {
     "transient": {
      "deleting": false
     }
    }
   },
   "outputs": [],
   "source": [
    "# Get the best run and save the model from that run.\n",
    "\n",
    "best_run = hyperdrive_submit.get_best_run_by_primary_metric()\n",
    "best_run_metrics = best_run.get_metrics()\n",
    "\n",
    "\n",
    "print('Best Run Id: ', best_run.id)\n",
    "print('\\n Accuracy:', best_run_metrics['Accuracy'])\n"
   ]
  },
  {
   "cell_type": "code",
   "execution_count": null,
   "metadata": {
    "gather": {
     "logged": 1598546657829
    },
    "jupyter": {
     "outputs_hidden": false,
     "source_hidden": false
    },
    "nteract": {
     "transient": {
      "deleting": false
     }
    }
   },
   "outputs": [],
   "source": [
    "#TODO: Save the best model\n",
    "joblib.dump(best_run, 'best_model_hyperdrive.pkl')"
   ]
  },
  {
   "cell_type": "markdown",
   "metadata": {
    "collapsed": true,
    "jupyter": {
     "outputs_hidden": false,
     "source_hidden": false
    },
    "nteract": {
     "transient": {
      "deleting": false
     }
    }
   },
   "source": [
    "## Model Deployment\n",
    "\n",
    "Remember you have to deploy only one of the two models you trained.. Perform the steps in the rest of this notebook only if you wish to deploy this model.\n",
    "\n",
    "TODO: In the cell below, register the model, create an inference config and deploy the model as a web service."
   ]
  },
  {
   "cell_type": "code",
   "execution_count": null,
   "metadata": {},
   "outputs": [],
   "source": [
    "model = best_run.register_model(model_name='hyperdrive_best', model_path='outputs/model_forest.joblib')\r\n",
    "\r\n",
    "inference_config = InferenceConfig(entry_script='score.py', environment=myenv)\r\n",
    "\r\n",
    "deployment_config = AciWebservice.deploy_configuration(\r\n",
    "    cpu_cores=1, memory_gb=4, auth_enabled=True, enable_app_insights=True\r\n",
    ")\r\n",
    "\r\n",
    "service = Model.deploy(workspace=ws,\r\n",
    "                          name=\"deployment\",\r\n",
    "                          models=[model],\r\n",
    "                          inference_config=inference_config,\r\n",
    "                          deployment_config=deployment_config,\r\n",
    "                          overwrite=True)\r\n",
    "service.wait_for_deployment(show_output=True)\r\n"
   ]
  },
  {
   "cell_type": "markdown",
   "metadata": {},
   "source": [
    "TODO: In the cell below, send a request to the web service you deployed to test it."
   ]
  },
  {
   "cell_type": "code",
   "execution_count": null,
   "metadata": {},
   "outputs": [],
   "source": [
    "import urllib.request\r\n",
    "import json\r\n",
    "import os\r\n",
    "import ssl\r\n",
    "\r\n",
    "def allowSelfSignedHttps(allowed):\r\n",
    "    # bypass the server certificate verification on client side\r\n",
    "    if allowed and not os.environ.get('PYTHONHTTPSVERIFY', '') and getattr(ssl, '_create_unverified_context', None):\r\n",
    "        ssl._create_default_https_context = ssl._create_unverified_context\r\n",
    "\r\n",
    "allowSelfSignedHttps(True) # this line is needed if you use self-signed certificate in your scoring service.\r\n",
    "\r\n",
    "data = {\r\n",
    "    \"data\":\r\n",
    "        [   [3.71608007538699,129.42292051494425,18630.057857970347,6.635245883862,8.05933237743854,92.8853591348523,398.41081338184466,11.558279443446395,31.997992727424737,4.075075425430034]]\r\n",
    "}\r\n",
    "\r\n",
    "body = str.encode(json.dumps(data))\r\n",
    "\r\n",
    "url = 'http://c55be43a-d2ba-4418-9e9f-3f3f8c71f99e.southcentralus.azurecontainer.io/score'\r\n",
    "api_key = '8y8WxM75DEsAdy6lo0utyhEfMpiCiWCa' # Replace this with the API key for the web service\r\n",
    "headers = {'Content-Type':'application/json', 'Authorization':('Bearer '+ api_key)}\r\n",
    "\r\n",
    "req = urllib.request.Request(url, body, headers)\r\n",
    "\r\n",
    "try:\r\n",
    "    response = urllib.request.urlopen(req)\r\n",
    "\r\n",
    "    result = response.read()\r\n",
    "    print(result)\r\n",
    "except urllib.error.HTTPError as error:\r\n",
    "    print(\"The request failed with status code: \" + str(error.code))\r\n",
    "\r\n",
    "    # Print the headers - they include the requert ID and the timestamp, which are useful for debugging the failure\r\n",
    "    print(error.info())\r\n",
    "    print(json.loads(error.read().decode(\"utf8\", 'ignore')))\r\n",
    "\r\n"
   ]
  },
  {
   "cell_type": "markdown",
   "metadata": {},
   "source": [
    "TODO: In the cell below, print the logs of the web service and delete the service"
   ]
  },
  {
   "cell_type": "code",
   "execution_count": null,
   "metadata": {},
   "outputs": [],
   "source": [
    "#Deleting service\n",
    "service.delete()"
   ]
  }
 ],
 "metadata": {
  "interpreter": {
   "hash": "15cf03a823c97d46323fd3cbe2d415da149777d2e87c72da5273b1f0ea363c9f"
  },
  "kernel_info": {
   "name": "python3-azureml"
  },
  "kernelspec": {
   "display_name": "Python 3.8.5 64-bit ('base': conda)",
   "name": "python3"
  },
  "language_info": {
   "name": "python",
   "version": ""
  },
  "nteract": {
   "version": "nteract-front-end@1.0.0"
  }
 },
 "nbformat": 4,
 "nbformat_minor": 2
}